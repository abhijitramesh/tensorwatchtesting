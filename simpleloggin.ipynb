{
 "cells": [
  {
   "cell_type": "code",
   "execution_count": 1,
   "metadata": {},
   "outputs": [],
   "source": [
    "import time,random\n",
    "import tensorwatch as tw"
   ]
  },
  {
   "cell_type": "code",
   "execution_count": null,
   "metadata": {},
   "outputs": [],
   "source": [
    "# available in test/simple_log/sum_log.py\n",
    "\n",
    "import time, random\n",
    "import tensorwatch as tw\n",
    "\n",
    "# we will create two streams, one for \n",
    "# sums of integers, other for random numbers\n",
    "w = tw.Watcher()\n",
    "st_isum = w.create_stream('isums')\n",
    "st_rsum = w.create_stream('rsums')\n",
    "\n",
    "isum, rsum = 0, 0\n",
    "for i in range(10000):\n",
    "    isum += i\n",
    "    rsum += random.randint(i,90000)\n",
    "\n",
    "    # write to streams\n",
    "    st_isum.write((i, isum))\n",
    "    st_rsum.write((i, rsum))\n",
    "\n",
    "    time.sleep(1)"
   ]
  },
  {
   "cell_type": "code",
   "execution_count": null,
   "metadata": {},
   "outputs": [],
   "source": []
  }
 ],
 "metadata": {
  "kernelspec": {
   "display_name": "Python 3",
   "language": "python",
   "name": "python3"
  },
  "language_info": {
   "codemirror_mode": {
    "name": "ipython",
    "version": 3
   },
   "file_extension": ".py",
   "mimetype": "text/x-python",
   "name": "python",
   "nbconvert_exporter": "python",
   "pygments_lexer": "ipython3",
   "version": "3.7.6"
  }
 },
 "nbformat": 4,
 "nbformat_minor": 4
}
